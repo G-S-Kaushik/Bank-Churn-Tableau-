{
 "cells": [
  {
   "cell_type": "code",
   "execution_count": 1,
   "id": "644af176",
   "metadata": {},
   "outputs": [],
   "source": [
    "import pandas as pd\n",
    "import numpy as np\n",
    "import matplotlib.pyplot as plt\n",
    "import seaborn as sns\n",
    "from tabulate import tabulate\n",
    "import warnings \n",
    "warnings.filterwarnings('ignore')"
   ]
  },
  {
   "cell_type": "code",
   "execution_count": 2,
   "id": "340aa4c4",
   "metadata": {},
   "outputs": [
    {
     "data": {
      "text/html": [
       "<div>\n",
       "<style scoped>\n",
       "    .dataframe tbody tr th:only-of-type {\n",
       "        vertical-align: middle;\n",
       "    }\n",
       "\n",
       "    .dataframe tbody tr th {\n",
       "        vertical-align: top;\n",
       "    }\n",
       "\n",
       "    .dataframe thead th {\n",
       "        text-align: right;\n",
       "    }\n",
       "</style>\n",
       "<table border=\"1\" class=\"dataframe\">\n",
       "  <thead>\n",
       "    <tr style=\"text-align: right;\">\n",
       "      <th></th>\n",
       "      <th>CLIENTNUM</th>\n",
       "      <th>Attrition_Flag</th>\n",
       "      <th>Customer_Age</th>\n",
       "      <th>Gender</th>\n",
       "      <th>Dependent_count</th>\n",
       "      <th>Education_Level</th>\n",
       "      <th>Marital_Status</th>\n",
       "      <th>Income_Category</th>\n",
       "      <th>Card_Category</th>\n",
       "      <th>Region</th>\n",
       "      <th>Months_on_book</th>\n",
       "      <th>Total_Relationship_Count</th>\n",
       "      <th>Months_Inactive_12_mon</th>\n",
       "      <th>Contacts_Count_12_mon</th>\n",
       "      <th>Credit_Limit</th>\n",
       "      <th>Total_Revolving_Bal</th>\n",
       "      <th>Avg_Open_To_Buy</th>\n",
       "      <th>Total_Trans_Amt</th>\n",
       "      <th>Total_Trans_Ct</th>\n",
       "      <th>Avg_Utilization_Ratio</th>\n",
       "    </tr>\n",
       "  </thead>\n",
       "  <tbody>\n",
       "    <tr>\n",
       "      <th>0</th>\n",
       "      <td>768805383</td>\n",
       "      <td>Existing Customer</td>\n",
       "      <td>45</td>\n",
       "      <td>M</td>\n",
       "      <td>3</td>\n",
       "      <td>High School</td>\n",
       "      <td>Married</td>\n",
       "      <td>$60K - $80K</td>\n",
       "      <td>Blue</td>\n",
       "      <td>England</td>\n",
       "      <td>39</td>\n",
       "      <td>5</td>\n",
       "      <td>1</td>\n",
       "      <td>3</td>\n",
       "      <td>12691.0</td>\n",
       "      <td>777</td>\n",
       "      <td>11914.0</td>\n",
       "      <td>1144</td>\n",
       "      <td>42</td>\n",
       "      <td>0.061</td>\n",
       "    </tr>\n",
       "    <tr>\n",
       "      <th>1</th>\n",
       "      <td>818770008</td>\n",
       "      <td>Existing Customer</td>\n",
       "      <td>49</td>\n",
       "      <td>F</td>\n",
       "      <td>5</td>\n",
       "      <td>Graduate</td>\n",
       "      <td>Single</td>\n",
       "      <td>Less than $40K</td>\n",
       "      <td>Blue</td>\n",
       "      <td>Northern Ireland</td>\n",
       "      <td>44</td>\n",
       "      <td>6</td>\n",
       "      <td>1</td>\n",
       "      <td>2</td>\n",
       "      <td>8256.0</td>\n",
       "      <td>864</td>\n",
       "      <td>7392.0</td>\n",
       "      <td>1291</td>\n",
       "      <td>33</td>\n",
       "      <td>0.105</td>\n",
       "    </tr>\n",
       "    <tr>\n",
       "      <th>2</th>\n",
       "      <td>713982108</td>\n",
       "      <td>Existing Customer</td>\n",
       "      <td>51</td>\n",
       "      <td>M</td>\n",
       "      <td>3</td>\n",
       "      <td>Graduate</td>\n",
       "      <td>Married</td>\n",
       "      <td>$80K - $120K</td>\n",
       "      <td>Blue</td>\n",
       "      <td>England</td>\n",
       "      <td>36</td>\n",
       "      <td>4</td>\n",
       "      <td>1</td>\n",
       "      <td>0</td>\n",
       "      <td>3418.0</td>\n",
       "      <td>0</td>\n",
       "      <td>3418.0</td>\n",
       "      <td>1887</td>\n",
       "      <td>20</td>\n",
       "      <td>0.000</td>\n",
       "    </tr>\n",
       "    <tr>\n",
       "      <th>3</th>\n",
       "      <td>769911858</td>\n",
       "      <td>Existing Customer</td>\n",
       "      <td>40</td>\n",
       "      <td>F</td>\n",
       "      <td>4</td>\n",
       "      <td>High School</td>\n",
       "      <td>Unknown</td>\n",
       "      <td>Less than $40K</td>\n",
       "      <td>Blue</td>\n",
       "      <td>Wales</td>\n",
       "      <td>34</td>\n",
       "      <td>3</td>\n",
       "      <td>4</td>\n",
       "      <td>1</td>\n",
       "      <td>3313.0</td>\n",
       "      <td>2517</td>\n",
       "      <td>796.0</td>\n",
       "      <td>1171</td>\n",
       "      <td>20</td>\n",
       "      <td>0.760</td>\n",
       "    </tr>\n",
       "    <tr>\n",
       "      <th>4</th>\n",
       "      <td>709106358</td>\n",
       "      <td>Existing Customer</td>\n",
       "      <td>40</td>\n",
       "      <td>M</td>\n",
       "      <td>3</td>\n",
       "      <td>Uneducated</td>\n",
       "      <td>Married</td>\n",
       "      <td>$60K - $80K</td>\n",
       "      <td>Blue</td>\n",
       "      <td>England</td>\n",
       "      <td>21</td>\n",
       "      <td>5</td>\n",
       "      <td>1</td>\n",
       "      <td>0</td>\n",
       "      <td>4716.0</td>\n",
       "      <td>0</td>\n",
       "      <td>4716.0</td>\n",
       "      <td>816</td>\n",
       "      <td>28</td>\n",
       "      <td>0.000</td>\n",
       "    </tr>\n",
       "    <tr>\n",
       "      <th>...</th>\n",
       "      <td>...</td>\n",
       "      <td>...</td>\n",
       "      <td>...</td>\n",
       "      <td>...</td>\n",
       "      <td>...</td>\n",
       "      <td>...</td>\n",
       "      <td>...</td>\n",
       "      <td>...</td>\n",
       "      <td>...</td>\n",
       "      <td>...</td>\n",
       "      <td>...</td>\n",
       "      <td>...</td>\n",
       "      <td>...</td>\n",
       "      <td>...</td>\n",
       "      <td>...</td>\n",
       "      <td>...</td>\n",
       "      <td>...</td>\n",
       "      <td>...</td>\n",
       "      <td>...</td>\n",
       "      <td>...</td>\n",
       "    </tr>\n",
       "    <tr>\n",
       "      <th>10122</th>\n",
       "      <td>772366833</td>\n",
       "      <td>Existing Customer</td>\n",
       "      <td>50</td>\n",
       "      <td>M</td>\n",
       "      <td>2</td>\n",
       "      <td>Graduate</td>\n",
       "      <td>Single</td>\n",
       "      <td>$40K - $60K</td>\n",
       "      <td>Blue</td>\n",
       "      <td>England</td>\n",
       "      <td>40</td>\n",
       "      <td>3</td>\n",
       "      <td>2</td>\n",
       "      <td>3</td>\n",
       "      <td>4003.0</td>\n",
       "      <td>1851</td>\n",
       "      <td>2152.0</td>\n",
       "      <td>15476</td>\n",
       "      <td>117</td>\n",
       "      <td>0.462</td>\n",
       "    </tr>\n",
       "    <tr>\n",
       "      <th>10123</th>\n",
       "      <td>710638233</td>\n",
       "      <td>Attrited Customer</td>\n",
       "      <td>41</td>\n",
       "      <td>M</td>\n",
       "      <td>2</td>\n",
       "      <td>Unknown</td>\n",
       "      <td>Divorced</td>\n",
       "      <td>$40K - $60K</td>\n",
       "      <td>Blue</td>\n",
       "      <td>England</td>\n",
       "      <td>25</td>\n",
       "      <td>4</td>\n",
       "      <td>2</td>\n",
       "      <td>3</td>\n",
       "      <td>4277.0</td>\n",
       "      <td>2186</td>\n",
       "      <td>2091.0</td>\n",
       "      <td>8764</td>\n",
       "      <td>69</td>\n",
       "      <td>0.511</td>\n",
       "    </tr>\n",
       "    <tr>\n",
       "      <th>10124</th>\n",
       "      <td>716506083</td>\n",
       "      <td>Attrited Customer</td>\n",
       "      <td>44</td>\n",
       "      <td>F</td>\n",
       "      <td>1</td>\n",
       "      <td>High School</td>\n",
       "      <td>Married</td>\n",
       "      <td>Less than $40K</td>\n",
       "      <td>Blue</td>\n",
       "      <td>England</td>\n",
       "      <td>36</td>\n",
       "      <td>5</td>\n",
       "      <td>3</td>\n",
       "      <td>4</td>\n",
       "      <td>5409.0</td>\n",
       "      <td>0</td>\n",
       "      <td>5409.0</td>\n",
       "      <td>10291</td>\n",
       "      <td>60</td>\n",
       "      <td>0.000</td>\n",
       "    </tr>\n",
       "    <tr>\n",
       "      <th>10125</th>\n",
       "      <td>717406983</td>\n",
       "      <td>Attrited Customer</td>\n",
       "      <td>30</td>\n",
       "      <td>M</td>\n",
       "      <td>2</td>\n",
       "      <td>Graduate</td>\n",
       "      <td>Unknown</td>\n",
       "      <td>$40K - $60K</td>\n",
       "      <td>Blue</td>\n",
       "      <td>England</td>\n",
       "      <td>36</td>\n",
       "      <td>4</td>\n",
       "      <td>3</td>\n",
       "      <td>3</td>\n",
       "      <td>5281.0</td>\n",
       "      <td>0</td>\n",
       "      <td>5281.0</td>\n",
       "      <td>8395</td>\n",
       "      <td>62</td>\n",
       "      <td>0.000</td>\n",
       "    </tr>\n",
       "    <tr>\n",
       "      <th>10126</th>\n",
       "      <td>714337233</td>\n",
       "      <td>Attrited Customer</td>\n",
       "      <td>43</td>\n",
       "      <td>F</td>\n",
       "      <td>2</td>\n",
       "      <td>Graduate</td>\n",
       "      <td>Married</td>\n",
       "      <td>Less than $40K</td>\n",
       "      <td>Silver</td>\n",
       "      <td>Scotland</td>\n",
       "      <td>25</td>\n",
       "      <td>6</td>\n",
       "      <td>2</td>\n",
       "      <td>4</td>\n",
       "      <td>10388.0</td>\n",
       "      <td>1961</td>\n",
       "      <td>8427.0</td>\n",
       "      <td>10294</td>\n",
       "      <td>61</td>\n",
       "      <td>0.189</td>\n",
       "    </tr>\n",
       "  </tbody>\n",
       "</table>\n",
       "<p>10127 rows × 20 columns</p>\n",
       "</div>"
      ],
      "text/plain": [
       "       CLIENTNUM     Attrition_Flag  Customer_Age Gender  Dependent_count  \\\n",
       "0      768805383  Existing Customer            45      M                3   \n",
       "1      818770008  Existing Customer            49      F                5   \n",
       "2      713982108  Existing Customer            51      M                3   \n",
       "3      769911858  Existing Customer            40      F                4   \n",
       "4      709106358  Existing Customer            40      M                3   \n",
       "...          ...                ...           ...    ...              ...   \n",
       "10122  772366833  Existing Customer            50      M                2   \n",
       "10123  710638233  Attrited Customer            41      M                2   \n",
       "10124  716506083  Attrited Customer            44      F                1   \n",
       "10125  717406983  Attrited Customer            30      M                2   \n",
       "10126  714337233  Attrited Customer            43      F                2   \n",
       "\n",
       "      Education_Level Marital_Status Income_Category Card_Category  \\\n",
       "0         High School        Married     $60K - $80K          Blue   \n",
       "1            Graduate         Single  Less than $40K          Blue   \n",
       "2            Graduate        Married    $80K - $120K          Blue   \n",
       "3         High School        Unknown  Less than $40K          Blue   \n",
       "4          Uneducated        Married     $60K - $80K          Blue   \n",
       "...               ...            ...             ...           ...   \n",
       "10122        Graduate         Single     $40K - $60K          Blue   \n",
       "10123         Unknown       Divorced     $40K - $60K          Blue   \n",
       "10124     High School        Married  Less than $40K          Blue   \n",
       "10125        Graduate        Unknown     $40K - $60K          Blue   \n",
       "10126        Graduate        Married  Less than $40K        Silver   \n",
       "\n",
       "                 Region  Months_on_book  Total_Relationship_Count  \\\n",
       "0               England              39                         5   \n",
       "1      Northern Ireland              44                         6   \n",
       "2               England              36                         4   \n",
       "3                 Wales              34                         3   \n",
       "4               England              21                         5   \n",
       "...                 ...             ...                       ...   \n",
       "10122           England              40                         3   \n",
       "10123           England              25                         4   \n",
       "10124           England              36                         5   \n",
       "10125           England              36                         4   \n",
       "10126          Scotland              25                         6   \n",
       "\n",
       "       Months_Inactive_12_mon  Contacts_Count_12_mon  Credit_Limit  \\\n",
       "0                           1                      3       12691.0   \n",
       "1                           1                      2        8256.0   \n",
       "2                           1                      0        3418.0   \n",
       "3                           4                      1        3313.0   \n",
       "4                           1                      0        4716.0   \n",
       "...                       ...                    ...           ...   \n",
       "10122                       2                      3        4003.0   \n",
       "10123                       2                      3        4277.0   \n",
       "10124                       3                      4        5409.0   \n",
       "10125                       3                      3        5281.0   \n",
       "10126                       2                      4       10388.0   \n",
       "\n",
       "       Total_Revolving_Bal  Avg_Open_To_Buy  Total_Trans_Amt  Total_Trans_Ct  \\\n",
       "0                      777          11914.0             1144              42   \n",
       "1                      864           7392.0             1291              33   \n",
       "2                        0           3418.0             1887              20   \n",
       "3                     2517            796.0             1171              20   \n",
       "4                        0           4716.0              816              28   \n",
       "...                    ...              ...              ...             ...   \n",
       "10122                 1851           2152.0            15476             117   \n",
       "10123                 2186           2091.0             8764              69   \n",
       "10124                    0           5409.0            10291              60   \n",
       "10125                    0           5281.0             8395              62   \n",
       "10126                 1961           8427.0            10294              61   \n",
       "\n",
       "       Avg_Utilization_Ratio  \n",
       "0                      0.061  \n",
       "1                      0.105  \n",
       "2                      0.000  \n",
       "3                      0.760  \n",
       "4                      0.000  \n",
       "...                      ...  \n",
       "10122                  0.462  \n",
       "10123                  0.511  \n",
       "10124                  0.000  \n",
       "10125                  0.000  \n",
       "10126                  0.189  \n",
       "\n",
       "[10127 rows x 20 columns]"
      ]
     },
     "execution_count": 2,
     "metadata": {},
     "output_type": "execute_result"
    }
   ],
   "source": [
    "#Loading Data Set using Pandas\n",
    "df= pd.read_csv('DS1_C8_V3_ND_Sprint3_BankChurn_Data.csv')\n",
    "df"
   ]
  },
  {
   "cell_type": "code",
   "execution_count": 3,
   "id": "1c4b770e",
   "metadata": {},
   "outputs": [
    {
     "name": "stdout",
     "output_type": "stream",
     "text": [
      "<class 'pandas.core.frame.DataFrame'>\n",
      "RangeIndex: 10127 entries, 0 to 10126\n",
      "Data columns (total 20 columns):\n",
      " #   Column                    Non-Null Count  Dtype  \n",
      "---  ------                    --------------  -----  \n",
      " 0   CLIENTNUM                 10127 non-null  int64  \n",
      " 1   Attrition_Flag            10127 non-null  object \n",
      " 2   Customer_Age              10127 non-null  int64  \n",
      " 3   Gender                    10127 non-null  object \n",
      " 4   Dependent_count           10127 non-null  int64  \n",
      " 5   Education_Level           10127 non-null  object \n",
      " 6   Marital_Status            10127 non-null  object \n",
      " 7   Income_Category           10127 non-null  object \n",
      " 8   Card_Category             9995 non-null   object \n",
      " 9   Region                    10127 non-null  object \n",
      " 10  Months_on_book            10127 non-null  int64  \n",
      " 11  Total_Relationship_Count  10127 non-null  int64  \n",
      " 12  Months_Inactive_12_mon    10127 non-null  int64  \n",
      " 13  Contacts_Count_12_mon     10127 non-null  int64  \n",
      " 14  Credit_Limit              10067 non-null  float64\n",
      " 15  Total_Revolving_Bal       10127 non-null  int64  \n",
      " 16  Avg_Open_To_Buy           10127 non-null  float64\n",
      " 17  Total_Trans_Amt           10127 non-null  int64  \n",
      " 18  Total_Trans_Ct            10127 non-null  int64  \n",
      " 19  Avg_Utilization_Ratio     10127 non-null  float64\n",
      "dtypes: float64(3), int64(10), object(7)\n",
      "memory usage: 1.5+ MB\n"
     ]
    }
   ],
   "source": [
    "# Finding different columns\n",
    "df.info()"
   ]
  },
  {
   "cell_type": "code",
   "execution_count": 4,
   "id": "58fcf553",
   "metadata": {},
   "outputs": [
    {
     "data": {
      "text/plain": [
       "CLIENTNUM                     0\n",
       "Attrition_Flag                0\n",
       "Customer_Age                  0\n",
       "Gender                        0\n",
       "Dependent_count               0\n",
       "Education_Level               0\n",
       "Marital_Status                0\n",
       "Income_Category               0\n",
       "Card_Category               132\n",
       "Region                        0\n",
       "Months_on_book                0\n",
       "Total_Relationship_Count      0\n",
       "Months_Inactive_12_mon        0\n",
       "Contacts_Count_12_mon         0\n",
       "Credit_Limit                 60\n",
       "Total_Revolving_Bal           0\n",
       "Avg_Open_To_Buy               0\n",
       "Total_Trans_Amt               0\n",
       "Total_Trans_Ct                0\n",
       "Avg_Utilization_Ratio         0\n",
       "dtype: int64"
      ]
     },
     "execution_count": 4,
     "metadata": {},
     "output_type": "execute_result"
    }
   ],
   "source": [
    "#Cheching null values\n",
    "df.isnull().sum()"
   ]
  },
  {
   "cell_type": "code",
   "execution_count": 5,
   "id": "b3a3f6d4",
   "metadata": {},
   "outputs": [],
   "source": [
    "# Replacing char value to mode\n",
    "df.Card_Category.fillna(df.Card_Category.mode()[0],inplace=True)"
   ]
  },
  {
   "cell_type": "code",
   "execution_count": 6,
   "id": "9084a4a3",
   "metadata": {},
   "outputs": [],
   "source": [
    "# Replacing num value to median\n",
    "df.Credit_Limit.fillna(df.Credit_Limit.median(),inplace=True)"
   ]
  },
  {
   "cell_type": "code",
   "execution_count": 7,
   "id": "d55a9e94",
   "metadata": {},
   "outputs": [
    {
     "data": {
      "text/plain": [
       "CLIENTNUM                   0\n",
       "Attrition_Flag              0\n",
       "Customer_Age                0\n",
       "Gender                      0\n",
       "Dependent_count             0\n",
       "Education_Level             0\n",
       "Marital_Status              0\n",
       "Income_Category             0\n",
       "Card_Category               0\n",
       "Region                      0\n",
       "Months_on_book              0\n",
       "Total_Relationship_Count    0\n",
       "Months_Inactive_12_mon      0\n",
       "Contacts_Count_12_mon       0\n",
       "Credit_Limit                0\n",
       "Total_Revolving_Bal         0\n",
       "Avg_Open_To_Buy             0\n",
       "Total_Trans_Amt             0\n",
       "Total_Trans_Ct              0\n",
       "Avg_Utilization_Ratio       0\n",
       "dtype: int64"
      ]
     },
     "execution_count": 7,
     "metadata": {},
     "output_type": "execute_result"
    }
   ],
   "source": [
    "#Rechecking null value\n",
    "df.isnull().sum()"
   ]
  },
  {
   "cell_type": "code",
   "execution_count": 8,
   "id": "b82c0b7a",
   "metadata": {},
   "outputs": [
    {
     "name": "stdout",
     "output_type": "stream",
     "text": [
      "Categorical               Numerical\n",
      "------------------------  ---------------------\n",
      "Attrition_Flag            CLIENTNUM\n",
      "Gender                    Customer_Age\n",
      "Education_Level           Dependent_count\n",
      "Marital_Status            Months_on_book\n",
      "Income_Category           Credit_Limit\n",
      "Card_Category             Total_Revolving_Bal\n",
      "Region                    Avg_Open_To_Buy\n",
      "Total_Relationship_Count  Total_Trans_Amt\n",
      "Months_Inactive_12_mon    Total_Trans_Ct\n",
      "Contacts_Count_12_mon     Avg_Utilization_Ratio\n"
     ]
    }
   ],
   "source": [
    "#Categorising num value and char value\n",
    "def data_type(df1):\n",
    "    cat=[]\n",
    "    num=[]\n",
    "    for col in df1:\n",
    "        if df1[col].nunique()<43:\n",
    "            cat.append(col)\n",
    "        else:\n",
    "            num.append(col)\n",
    "    return cat,num\n",
    "\n",
    "cat_var,num_var=data_type(df)\n",
    "print(tabulate({'Categorical':cat_var,'Numerical':num_var},headers=['Categorical','Numerical']))"
   ]
  },
  {
   "cell_type": "code",
   "execution_count": 9,
   "id": "f4118647",
   "metadata": {},
   "outputs": [
    {
     "data": {
      "text/html": [
       "<div>\n",
       "<style scoped>\n",
       "    .dataframe tbody tr th:only-of-type {\n",
       "        vertical-align: middle;\n",
       "    }\n",
       "\n",
       "    .dataframe tbody tr th {\n",
       "        vertical-align: top;\n",
       "    }\n",
       "\n",
       "    .dataframe thead th {\n",
       "        text-align: right;\n",
       "    }\n",
       "</style>\n",
       "<table border=\"1\" class=\"dataframe\">\n",
       "  <thead>\n",
       "    <tr style=\"text-align: right;\">\n",
       "      <th></th>\n",
       "      <th>CLIENTNUM</th>\n",
       "      <th>Customer_Age</th>\n",
       "      <th>Dependent_count</th>\n",
       "      <th>Months_on_book</th>\n",
       "      <th>Total_Relationship_Count</th>\n",
       "      <th>Months_Inactive_12_mon</th>\n",
       "      <th>Contacts_Count_12_mon</th>\n",
       "      <th>Credit_Limit</th>\n",
       "      <th>Total_Revolving_Bal</th>\n",
       "      <th>Avg_Open_To_Buy</th>\n",
       "      <th>Total_Trans_Amt</th>\n",
       "      <th>Total_Trans_Ct</th>\n",
       "      <th>Avg_Utilization_Ratio</th>\n",
       "    </tr>\n",
       "  </thead>\n",
       "  <tbody>\n",
       "    <tr>\n",
       "      <th>count</th>\n",
       "      <td>1.012700e+04</td>\n",
       "      <td>10127.000000</td>\n",
       "      <td>10127.000000</td>\n",
       "      <td>10127.000000</td>\n",
       "      <td>10127.000000</td>\n",
       "      <td>10127.000000</td>\n",
       "      <td>10127.000000</td>\n",
       "      <td>10127.000000</td>\n",
       "      <td>10127.000000</td>\n",
       "      <td>10127.000000</td>\n",
       "      <td>10127.000000</td>\n",
       "      <td>10127.000000</td>\n",
       "      <td>10127.000000</td>\n",
       "    </tr>\n",
       "    <tr>\n",
       "      <th>mean</th>\n",
       "      <td>7.391776e+08</td>\n",
       "      <td>46.382245</td>\n",
       "      <td>2.787400</td>\n",
       "      <td>35.928409</td>\n",
       "      <td>3.812580</td>\n",
       "      <td>2.341167</td>\n",
       "      <td>2.455317</td>\n",
       "      <td>8678.615444</td>\n",
       "      <td>1162.814061</td>\n",
       "      <td>7469.139637</td>\n",
       "      <td>4404.086304</td>\n",
       "      <td>64.858695</td>\n",
       "      <td>0.274894</td>\n",
       "    </tr>\n",
       "    <tr>\n",
       "      <th>std</th>\n",
       "      <td>3.690378e+07</td>\n",
       "      <td>8.341393</td>\n",
       "      <td>6.479135</td>\n",
       "      <td>7.986416</td>\n",
       "      <td>1.554408</td>\n",
       "      <td>1.010622</td>\n",
       "      <td>1.106225</td>\n",
       "      <td>9168.315165</td>\n",
       "      <td>814.987335</td>\n",
       "      <td>9090.685324</td>\n",
       "      <td>3397.129254</td>\n",
       "      <td>23.472570</td>\n",
       "      <td>0.275691</td>\n",
       "    </tr>\n",
       "    <tr>\n",
       "      <th>min</th>\n",
       "      <td>7.080821e+08</td>\n",
       "      <td>18.000000</td>\n",
       "      <td>0.000000</td>\n",
       "      <td>13.000000</td>\n",
       "      <td>1.000000</td>\n",
       "      <td>0.000000</td>\n",
       "      <td>0.000000</td>\n",
       "      <td>1438.300000</td>\n",
       "      <td>0.000000</td>\n",
       "      <td>3.000000</td>\n",
       "      <td>510.000000</td>\n",
       "      <td>10.000000</td>\n",
       "      <td>0.000000</td>\n",
       "    </tr>\n",
       "    <tr>\n",
       "      <th>25%</th>\n",
       "      <td>7.130368e+08</td>\n",
       "      <td>41.000000</td>\n",
       "      <td>1.000000</td>\n",
       "      <td>31.000000</td>\n",
       "      <td>3.000000</td>\n",
       "      <td>2.000000</td>\n",
       "      <td>2.000000</td>\n",
       "      <td>2563.000000</td>\n",
       "      <td>359.000000</td>\n",
       "      <td>1324.500000</td>\n",
       "      <td>2155.500000</td>\n",
       "      <td>45.000000</td>\n",
       "      <td>0.023000</td>\n",
       "    </tr>\n",
       "    <tr>\n",
       "      <th>50%</th>\n",
       "      <td>7.179264e+08</td>\n",
       "      <td>46.000000</td>\n",
       "      <td>2.000000</td>\n",
       "      <td>36.000000</td>\n",
       "      <td>4.000000</td>\n",
       "      <td>2.000000</td>\n",
       "      <td>2.000000</td>\n",
       "      <td>4557.000000</td>\n",
       "      <td>1276.000000</td>\n",
       "      <td>3474.000000</td>\n",
       "      <td>3899.000000</td>\n",
       "      <td>67.000000</td>\n",
       "      <td>0.176000</td>\n",
       "    </tr>\n",
       "    <tr>\n",
       "      <th>75%</th>\n",
       "      <td>7.731435e+08</td>\n",
       "      <td>52.000000</td>\n",
       "      <td>3.000000</td>\n",
       "      <td>40.000000</td>\n",
       "      <td>5.000000</td>\n",
       "      <td>3.000000</td>\n",
       "      <td>3.000000</td>\n",
       "      <td>11081.500000</td>\n",
       "      <td>1784.000000</td>\n",
       "      <td>9859.000000</td>\n",
       "      <td>4741.000000</td>\n",
       "      <td>81.000000</td>\n",
       "      <td>0.503000</td>\n",
       "    </tr>\n",
       "    <tr>\n",
       "      <th>max</th>\n",
       "      <td>8.283431e+08</td>\n",
       "      <td>89.000000</td>\n",
       "      <td>143.000000</td>\n",
       "      <td>56.000000</td>\n",
       "      <td>6.000000</td>\n",
       "      <td>6.000000</td>\n",
       "      <td>6.000000</td>\n",
       "      <td>34664.000000</td>\n",
       "      <td>2517.000000</td>\n",
       "      <td>34516.000000</td>\n",
       "      <td>18484.000000</td>\n",
       "      <td>139.000000</td>\n",
       "      <td>0.999000</td>\n",
       "    </tr>\n",
       "  </tbody>\n",
       "</table>\n",
       "</div>"
      ],
      "text/plain": [
       "          CLIENTNUM  Customer_Age  Dependent_count  Months_on_book  \\\n",
       "count  1.012700e+04  10127.000000     10127.000000    10127.000000   \n",
       "mean   7.391776e+08     46.382245         2.787400       35.928409   \n",
       "std    3.690378e+07      8.341393         6.479135        7.986416   \n",
       "min    7.080821e+08     18.000000         0.000000       13.000000   \n",
       "25%    7.130368e+08     41.000000         1.000000       31.000000   \n",
       "50%    7.179264e+08     46.000000         2.000000       36.000000   \n",
       "75%    7.731435e+08     52.000000         3.000000       40.000000   \n",
       "max    8.283431e+08     89.000000       143.000000       56.000000   \n",
       "\n",
       "       Total_Relationship_Count  Months_Inactive_12_mon  \\\n",
       "count              10127.000000            10127.000000   \n",
       "mean                   3.812580                2.341167   \n",
       "std                    1.554408                1.010622   \n",
       "min                    1.000000                0.000000   \n",
       "25%                    3.000000                2.000000   \n",
       "50%                    4.000000                2.000000   \n",
       "75%                    5.000000                3.000000   \n",
       "max                    6.000000                6.000000   \n",
       "\n",
       "       Contacts_Count_12_mon  Credit_Limit  Total_Revolving_Bal  \\\n",
       "count           10127.000000  10127.000000         10127.000000   \n",
       "mean                2.455317   8678.615444          1162.814061   \n",
       "std                 1.106225   9168.315165           814.987335   \n",
       "min                 0.000000   1438.300000             0.000000   \n",
       "25%                 2.000000   2563.000000           359.000000   \n",
       "50%                 2.000000   4557.000000          1276.000000   \n",
       "75%                 3.000000  11081.500000          1784.000000   \n",
       "max                 6.000000  34664.000000          2517.000000   \n",
       "\n",
       "       Avg_Open_To_Buy  Total_Trans_Amt  Total_Trans_Ct  Avg_Utilization_Ratio  \n",
       "count     10127.000000     10127.000000    10127.000000           10127.000000  \n",
       "mean       7469.139637      4404.086304       64.858695               0.274894  \n",
       "std        9090.685324      3397.129254       23.472570               0.275691  \n",
       "min           3.000000       510.000000       10.000000               0.000000  \n",
       "25%        1324.500000      2155.500000       45.000000               0.023000  \n",
       "50%        3474.000000      3899.000000       67.000000               0.176000  \n",
       "75%        9859.000000      4741.000000       81.000000               0.503000  \n",
       "max       34516.000000     18484.000000      139.000000               0.999000  "
      ]
     },
     "execution_count": 9,
     "metadata": {},
     "output_type": "execute_result"
    }
   ],
   "source": [
    "# describing the num value\n",
    "df.describe()"
   ]
  },
  {
   "cell_type": "markdown",
   "id": "404375ab",
   "metadata": {},
   "source": [
    "The dataset contains the details of 10167 customers.\n",
    "\n",
    "The average age of the customer of this bank is around 46 years and median is also 46 years we can conlude data is normaly distributed.\n",
    "\n",
    "The avg credit limit is 8678 where the median lies in 4557 so we can conclude it is highely left skewed curve.\n",
    "\n",
    "The average dependent count of customers is ~3 and median is 2 and max is 143 there are outliers in this data set."
   ]
  },
  {
   "cell_type": "code",
   "execution_count": 10,
   "id": "1b81e37b",
   "metadata": {},
   "outputs": [],
   "source": [
    "def num_info(col):\n",
    "    print(col)\n",
    "    print('*********************')\n",
    "    summary=df[col].describe()\n",
    "    print(summary)\n",
    "    print(f'median {df[col].median()}')\n",
    "    print(f'mode {df[col].mode()[0]}')\n",
    "    print(f'skewness {df[col].skew()}')\n",
    "    print(f'kurtos {df[col].kurt()}')\n",
    "    \n",
    "def num_visual(col):\n",
    "    fig,ax=plt.subplots(2,1,figsize=(10,10))\n",
    "    ax[0].hist(df[col])\n",
    "    ax[0].set_title('Histogram')\n",
    "    ax[0].set_xlabel(col)\n",
    "    ax[0].set_ylabel('Count')\n",
    "    \n",
    "    sns.boxplot(y=df[col],ax=ax[1])\n",
    "    ax[1].set_title('Boxplot')\n",
    "    ax[1].set_xlabel(col)\n",
    "    ax[1].set_ylabel('Count')\n",
    "    \n",
    "def main1(col):\n",
    "    num_info(col)\n",
    "    num_visual(col)\n",
    "    \n",
    "def outliers(col):\n",
    "    summary=df[col].describe()\n",
    "    iqr=(summary['75%']-summary['25%'])\n",
    "    ul=summary['75%']+1.5*iqr\n",
    "    ll=summary['25%']-1.5*iqr\n",
    "    return ll,ul\n",
    "def re_outliers(col):\n",
    "    ll,ul=outliers(col)\n",
    "    a=df[(df[col]>=ul)|(df[col]<=ll)].index\n",
    "    for i in a:\n",
    "        df.loc[i,col]=df[col].median()\n",
    "    main1(col)"
   ]
  },
  {
   "cell_type": "code",
   "execution_count": 11,
   "id": "3cb9770c",
   "metadata": {},
   "outputs": [
    {
     "name": "stdout",
     "output_type": "stream",
     "text": [
      "Customer_Age\n",
      "*********************\n",
      "count    10127.000000\n",
      "mean        46.382245\n",
      "std          8.341393\n",
      "min         18.000000\n",
      "25%         41.000000\n",
      "50%         46.000000\n",
      "75%         52.000000\n",
      "max         89.000000\n",
      "Name: Customer_Age, dtype: float64\n",
      "median 46.0\n",
      "mode 44\n",
      "skewness 0.1291566318882164\n",
      "kurtos 0.5261855468251819\n"
     ]
    },
    {
     "data": {
      "image/png": "[encoded data removed]",
      "text/plain": [
       "<Figure size 720x720 with 2 Axes>"
      ]
     },
     "metadata": {
      "needs_background": "light"
     },
     "output_type": "display_data"
    }
   ],
   "source": [
    "main1(num_var[1])"
   ]
  },
  {
   "cell_type": "code",
   "execution_count": null,
   "id": "40bece5f",
   "metadata": {},
   "outputs": [],
   "source": []
  },
  {
   "cell_type": "code",
   "execution_count": 12,
   "id": "dfe7d6c0",
   "metadata": {},
   "outputs": [
    {
     "name": "stdout",
     "output_type": "stream",
     "text": [
      "Dependent_count\n",
      "*********************\n",
      "count    10127.000000\n",
      "mean         2.787400\n",
      "std          6.479135\n",
      "min          0.000000\n",
      "25%          1.000000\n",
      "50%          2.000000\n",
      "75%          3.000000\n",
      "max        143.000000\n",
      "Name: Dependent_count, dtype: float64\n",
      "median 2.0\n",
      "mode 3\n",
      "skewness 14.932511334305024\n",
      "kurtos 243.99719517839253\n"
     ]
    },
    {
     "data": {
      "image/png": "[encoded data removed]",
      "text/plain": [
       "<Figure size 720x720 with 2 Axes>"
      ]
     },
     "metadata": {
      "needs_background": "light"
     },
     "output_type": "display_data"
    }
   ],
   "source": [
    "main1(num_var[2])"
   ]
  },
  {
   "cell_type": "code",
   "execution_count": 13,
   "id": "8a5182ec",
   "metadata": {},
   "outputs": [
    {
     "name": "stdout",
     "output_type": "stream",
     "text": [
      "Dependent_count\n",
      "*********************\n",
      "count    10127.000000\n",
      "mean         2.345216\n",
      "std          1.295746\n",
      "min          0.000000\n",
      "25%          1.000000\n",
      "50%          2.000000\n",
      "75%          3.000000\n",
      "max          5.000000\n",
      "Name: Dependent_count, dtype: float64\n",
      "median 2.0\n",
      "mode 3\n",
      "skewness -0.015609756551188148\n",
      "kurtos -0.6697024802671834\n"
     ]
    },
    {
     "data": {
      "image/png": "[encoded data removed]",
      "text/plain": [
       "<Figure size 720x720 with 2 Axes>"
      ]
     },
     "metadata": {
      "needs_background": "light"
     },
     "output_type": "display_data"
    }
   ],
   "source": [
    "re_outliers(num_var[2])"
   ]
  },
  {
   "cell_type": "code",
   "execution_count": 14,
   "id": "5c6c1e84",
   "metadata": {},
   "outputs": [
    {
     "name": "stdout",
     "output_type": "stream",
     "text": [
      "Months_on_book\n",
      "*********************\n",
      "count    10127.000000\n",
      "mean        35.928409\n",
      "std          7.986416\n",
      "min         13.000000\n",
      "25%         31.000000\n",
      "50%         36.000000\n",
      "75%         40.000000\n",
      "max         56.000000\n",
      "Name: Months_on_book, dtype: float64\n",
      "median 36.0\n",
      "mode 36\n",
      "skewness -0.10656535989402989\n",
      "kurtos 0.40010012019986707\n"
     ]
    },
    {
     "data": {
      "image/png": "[encoded data removed]",
      "text/plain": [
       "<Figure size 720x720 with 2 Axes>"
      ]
     },
     "metadata": {
      "needs_background": "light"
     },
     "output_type": "display_data"
    }
   ],
   "source": [
    "main1(num_var[3])"
   ]
  },
  {
   "cell_type": "code",
   "execution_count": 15,
   "id": "3def11c1",
   "metadata": {},
   "outputs": [
    {
     "name": "stdout",
     "output_type": "stream",
     "text": [
      "Months_on_book\n",
      "*********************\n",
      "count    10127.000000\n",
      "mean        35.946677\n",
      "std          6.934324\n",
      "min         18.000000\n",
      "25%         32.000000\n",
      "50%         36.000000\n",
      "75%         40.000000\n",
      "max         53.000000\n",
      "Name: Months_on_book, dtype: float64\n",
      "median 36.0\n",
      "mode 36\n",
      "skewness -0.057806787981882976\n",
      "kurtos 0.11716857709347428\n"
     ]
    },
    {
     "data": {
      "image/png": "[encoded data removed]",
      "text/plain": [
       "<Figure size 720x720 with 2 Axes>"
      ]
     },
     "metadata": {
      "needs_background": "light"
     },
     "output_type": "display_data"
    }
   ],
   "source": [
    "re_outliers(num_var[3])"
   ]
  },
  {
   "cell_type": "code",
   "execution_count": 16,
   "id": "ea39b4a4",
   "metadata": {},
   "outputs": [
    {
     "name": "stdout",
     "output_type": "stream",
     "text": [
      "Credit_Limit\n",
      "*********************\n",
      "count    10127.000000\n",
      "mean      8678.615444\n",
      "std       9168.315165\n",
      "min       1438.300000\n",
      "25%       2563.000000\n",
      "50%       4557.000000\n",
      "75%      11081.500000\n",
      "max      34664.000000\n",
      "Name: Credit_Limit, dtype: float64\n",
      "median 4557.0\n",
      "mode 34516.0\n",
      "skewness 1.6642465975524867\n",
      "kurtos 1.7711091211748649\n"
     ]
    },
    {
     "data": {
      "image/png": "[encoded data removed]",
      "text/plain": [
       "<Figure size 720x720 with 2 Axes>"
      ]
     },
     "metadata": {
      "needs_background": "light"
     },
     "output_type": "display_data"
    }
   ],
   "source": [
    "main1(num_var[4])"
   ]
  },
  {
   "cell_type": "code",
   "execution_count": 17,
   "id": "e808896e",
   "metadata": {},
   "outputs": [
    {
     "name": "stdout",
     "output_type": "stream",
     "text": [
      "Credit_Limit\n",
      "*********************\n",
      "count    10127.000000\n",
      "mean      7889.745927\n",
      "std       7215.353395\n",
      "min       1438.300000\n",
      "25%       2563.000000\n",
      "50%       4557.000000\n",
      "75%      11081.500000\n",
      "max      23720.800000\n",
      "Name: Credit_Limit, dtype: float64\n",
      "median 4557.0\n",
      "mode 23720.799999999996\n",
      "skewness 1.1921404360318444\n",
      "kurtos 0.06112902516103569\n"
     ]
    },
    {
     "data": {
      "image/png": "[encoded data removed]",
      "text/plain": [
       "<Figure size 720x720 with 2 Axes>"
      ]
     },
     "metadata": {
      "needs_background": "light"
     },
     "output_type": "display_data"
    }
   ],
   "source": [
    "#Trateing the outliers to the 90th quartile value\n",
    "clq = df['Credit_Limit'].quantile(0.90)\n",
    "df.loc[df['Credit_Limit'] > clq, 'Credit_Limit'] = clq\n",
    "main1(num_var[4])"
   ]
  },
  {
   "cell_type": "code",
   "execution_count": 18,
   "id": "2d422ae8",
   "metadata": {},
   "outputs": [
    {
     "name": "stdout",
     "output_type": "stream",
     "text": [
      "Avg_Open_To_Buy\n",
      "*********************\n",
      "count    10127.000000\n",
      "mean      7469.139637\n",
      "std       9090.685324\n",
      "min          3.000000\n",
      "25%       1324.500000\n",
      "50%       3474.000000\n",
      "75%       9859.000000\n",
      "max      34516.000000\n",
      "Name: Avg_Open_To_Buy, dtype: float64\n",
      "median 3474.0\n",
      "mode 1438.3\n",
      "skewness 1.6616965459311595\n",
      "kurtos 1.7986172957122664\n"
     ]
    },
    {
     "data": {
      "image/png": "[encoded data removed]",
      "text/plain": [
       "<Figure size 720x720 with 2 Axes>"
      ]
     },
     "metadata": {
      "needs_background": "light"
     },
     "output_type": "display_data"
    }
   ],
   "source": [
    "main1(num_var[6])"
   ]
  },
  {
   "cell_type": "code",
   "execution_count": 19,
   "id": "781ce112",
   "metadata": {},
   "outputs": [
    {
     "name": "stdout",
     "output_type": "stream",
     "text": [
      "Avg_Open_To_Buy\n",
      "*********************\n",
      "count    10127.000000\n",
      "mean      6652.674524\n",
      "std       7074.925563\n",
      "min          3.000000\n",
      "25%       1324.500000\n",
      "50%       3474.000000\n",
      "75%       9859.000000\n",
      "max      21964.600000\n",
      "Name: Avg_Open_To_Buy, dtype: float64\n",
      "median 3474.0\n",
      "mode 21964.6\n",
      "skewness 1.1558899853148947\n",
      "kurtos -0.0346375039941309\n"
     ]
    },
    {
     "data": {
      "image/png": "[encoded data removed]",
      "text/plain": [
       "<Figure size 720x720 with 2 Axes>"
      ]
     },
     "metadata": {
      "needs_background": "light"
     },
     "output_type": "display_data"
    }
   ],
   "source": [
    "clq = df['Avg_Open_To_Buy'].quantile(0.90)\n",
    "df.loc[df['Avg_Open_To_Buy'] > clq, 'Avg_Open_To_Buy'] = clq\n",
    "main1(num_var[6])"
   ]
  },
  {
   "cell_type": "code",
   "execution_count": 20,
   "id": "2c600972",
   "metadata": {},
   "outputs": [
    {
     "name": "stdout",
     "output_type": "stream",
     "text": [
      "Total_Trans_Amt\n",
      "*********************\n",
      "count    10127.000000\n",
      "mean      4404.086304\n",
      "std       3397.129254\n",
      "min        510.000000\n",
      "25%       2155.500000\n",
      "50%       3899.000000\n",
      "75%       4741.000000\n",
      "max      18484.000000\n",
      "Name: Total_Trans_Amt, dtype: float64\n",
      "median 3899.0\n",
      "mode 4253\n",
      "skewness 2.0410034025756936\n",
      "kurtos 3.8940234056985163\n"
     ]
    },
    {
     "data": {
      "image/png": "[encoded data removed]",
      "text/plain": [
       "<Figure size 720x720 with 2 Axes>"
      ]
     },
     "metadata": {
      "needs_background": "light"
     },
     "output_type": "display_data"
    }
   ],
   "source": [
    "main1(num_var[7])"
   ]
  },
  {
   "cell_type": "code",
   "execution_count": 21,
   "id": "6724c60d",
   "metadata": {},
   "outputs": [
    {
     "name": "stdout",
     "output_type": "stream",
     "text": [
      "Total_Trans_Amt\n",
      "*********************\n",
      "count    10127.000000\n",
      "mean      3910.163740\n",
      "std       2081.283454\n",
      "min        510.000000\n",
      "25%       2155.500000\n",
      "50%       3899.000000\n",
      "75%       4741.000000\n",
      "max       8212.400000\n",
      "Name: Total_Trans_Amt, dtype: float64\n",
      "median 3899.0\n",
      "mode 8212.4\n",
      "skewness 0.7398606453940872\n",
      "kurtos -0.20991310180998957\n"
     ]
    },
    {
     "data": {
      "image/png": "[encoded data removed]",
      "text/plain": [
       "<Figure size 720x720 with 2 Axes>"
      ]
     },
     "metadata": {
      "needs_background": "light"
     },
     "output_type": "display_data"
    }
   ],
   "source": [
    "clq = df['Total_Trans_Amt'].quantile(0.90)\n",
    "df.loc[df['Total_Trans_Amt'] > clq, 'Total_Trans_Amt'] = clq\n",
    "main1(num_var[7])"
   ]
  },
  {
   "cell_type": "code",
   "execution_count": 22,
   "id": "43c9e33c",
   "metadata": {},
   "outputs": [
    {
     "name": "stdout",
     "output_type": "stream",
     "text": [
      "Total_Trans_Ct\n",
      "*********************\n",
      "count    10127.000000\n",
      "mean        64.858695\n",
      "std         23.472570\n",
      "min         10.000000\n",
      "25%         45.000000\n",
      "50%         67.000000\n",
      "75%         81.000000\n",
      "max        139.000000\n",
      "Name: Total_Trans_Ct, dtype: float64\n",
      "median 67.0\n",
      "mode 81\n",
      "skewness 0.15367306849872275\n",
      "kurtos -0.36716324112759624\n"
     ]
    },
    {
     "data": {
      "image/png": "[encoded data removed]",
      "text/plain": [
       "<Figure size 720x720 with 2 Axes>"
      ]
     },
     "metadata": {
      "needs_background": "light"
     },
     "output_type": "display_data"
    }
   ],
   "source": [
    "main1(num_var[8])"
   ]
  },
  {
   "cell_type": "code",
   "execution_count": 23,
   "id": "046cf495",
   "metadata": {},
   "outputs": [
    {
     "name": "stdout",
     "output_type": "stream",
     "text": [
      "Total_Trans_Ct\n",
      "*********************\n",
      "count    10127.000000\n",
      "mean        64.844574\n",
      "std         23.449757\n",
      "min         10.000000\n",
      "25%         45.000000\n",
      "50%         67.000000\n",
      "75%         81.000000\n",
      "max        134.000000\n",
      "Name: Total_Trans_Ct, dtype: float64\n",
      "median 67.0\n",
      "mode 81\n",
      "skewness 0.14980992423396222\n",
      "kurtos -0.3757670384680445\n"
     ]
    },
    {
     "data": {
      "image/png": "[encoded data removed]",
      "text/plain": [
       "<Figure size 720x720 with 2 Axes>"
      ]
     },
     "metadata": {
      "needs_background": "light"
     },
     "output_type": "display_data"
    }
   ],
   "source": [
    "re_outliers(num_var[8])"
   ]
  },
  {
   "cell_type": "code",
   "execution_count": null,
   "id": "bc787d9e",
   "metadata": {},
   "outputs": [],
   "source": []
  },
  {
   "cell_type": "code",
   "execution_count": 24,
   "id": "06ed7302",
   "metadata": {},
   "outputs": [],
   "source": [
    "# df.to_csv('C:\\\\Users\\\\gskau\\\\OneDrive\\\\Desktop\\\\NIIT\\\\Project\\\\Tableau\\\\Clean_Bank_Churn_Data.csv')"
   ]
  },
  {
   "cell_type": "code",
   "execution_count": null,
   "id": "0299098e",
   "metadata": {},
   "outputs": [],
   "source": []
  }
 ],
 "metadata": {
  "kernelspec": {
   "display_name": "Python 3 (ipykernel)",
   "language": "python",
   "name": "python3"
  },
  "language_info": {
   "codemirror_mode": {
    "name": "ipython",
    "version": 3
   },
   "file_extension": ".py",
   "mimetype": "text/x-python",
   "name": "python",
   "nbconvert_exporter": "python",
   "pygments_lexer": "ipython3",
   "version": "3.9.7"
  }
 },
 "nbformat": 4,
 "nbformat_minor": 5
}
